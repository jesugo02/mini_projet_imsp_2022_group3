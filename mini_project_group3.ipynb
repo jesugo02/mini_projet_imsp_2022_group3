{
 "cells": [
  {
   "cell_type": "markdown",
   "metadata": {},
   "source": [
    "# MEMBRES DU GROUPE 3 : \n",
    "   >># -Diane NOUNGANG\n",
    "   >># -AMEDÉE MEGNIGBETO\n",
    "   >># -Aubin J. NOUNAGNON\n",
    "   >># -Ulrich COCOSSOU\n",
    "   \n",
    "# THÈME : \n",
    "   >>#### Projet 2 : Répertoire de travail"
   ]
  },
  {
   "cell_type": "code",
   "execution_count": 1,
   "metadata": {},
   "outputs": [
    {
     "name": "stdout",
     "output_type": "stream",
     "text": [
      "Enter csv file absolute path for the students: /home/jesugo/for_python_project/etudiants.csv\n",
      "Enter csv file absolute path for the discipline: /home/jesugo/for_python_project/filieres.csv\n",
      "\n",
      "THE FOLDERS HAVE BEEN CREATED !!\n",
      "\n"
     ]
    }
   ],
   "source": [
    "import csv\n",
    "import os\n",
    "\n",
    "def open_and_read_csv(file_path):\n",
    "    \"\"\"open and read a given csv file as a dictionnary and put the values in a given list\"\"\"\n",
    "    liste = []\n",
    "    with open(file_path, 'r') as file:\n",
    "        csv_file = csv.DictReader(file)\n",
    "        for row in csv_file:\n",
    "            liste.append(row)  \n",
    "    return liste\n",
    "\n",
    "def creating_repo(li1, li2):\n",
    "    \"\"\"create the folders with given two lists , one containing the student's names while the order contains the subjects\"\"\"\n",
    "    try:\n",
    "        for i in li2:\n",
    "            for j in li1:\n",
    "                os.makedirs(\"./the_code_result/\" + i[\"Noms\"] + \" \" + i[\"Prenoms\"] + \"/\" + j[\"Matieres\"])\n",
    "                with open(\"./the_code_result/\" + i[\"Noms\"] +\" \"+ i[\"Prenoms\"] + \"/\" + j[\"Matieres\"] + \"/copy.txt\", \"w\") as file:\n",
    "                    file.write(\"Your text goes here\")\n",
    "        return 1\n",
    "    except FileExistsError as e:\n",
    "        print(\"File(s) already exist(s)\")\n",
    "        print()\n",
    "    \n",
    "def deleting_repo(li1, li2):\n",
    "    \"\"\"delete all the folders\"\"\"\n",
    "    for i in li2:\n",
    "        for j in li1:\n",
    "            os.remove(\"./the_code_result/\" + i[\"Noms\"] + \" \" + i[\"Prenoms\"] + \"/\" + j[\"Matieres\"] + \"/copy.txt\")\n",
    "            os.rmdir(\"./the_code_result/\" + i[\"Noms\"] + \" \" + i[\"Prenoms\"] + \"/\" + j[\"Matieres\"])\n",
    "        os.rmdir(\"./the_code_result/\" + i[\"Noms\"] + \" \" + i[\"Prenoms\"])\n",
    "\n",
    "\n",
    "def get_csv_files(identifier):\n",
    "    \"\"\"Takes the absolute path of the csv files\"\"\"\n",
    "    while 1:\n",
    "        if identifier == 1:\n",
    "            csv_file_path  = input(\"Enter csv file absolute path for the students: \")\n",
    "        elif identifier == 2:\n",
    "            csv_file_path  = input(\"Enter csv file absolute path for the discipline: \")\n",
    "        if os.path.exists(csv_file_path) == False:\n",
    "            print(\"Path doesn't exists\")\n",
    "        else:\n",
    "            return csv_file_path\n",
    "\n",
    "\n",
    "liste_etudiants = open_and_read_csv(get_csv_files(1))\n",
    "liste_filieres  = open_and_read_csv(get_csv_files(2))\n",
    "\n",
    "if(creating_repo(liste_filieres, liste_etudiants)):\n",
    "    print()\n",
    "    print(\"THE FOLDERS HAVE BEEN CREATED !!\")\n",
    "    print()\n"
   ]
  }
 ],
 "metadata": {
  "kernelspec": {
   "display_name": "Python 3",
   "language": "python",
   "name": "python3"
  },
  "language_info": {
   "codemirror_mode": {
    "name": "ipython",
    "version": 3
   },
   "file_extension": ".py",
   "mimetype": "text/x-python",
   "name": "python",
   "nbconvert_exporter": "python",
   "pygments_lexer": "ipython3",
   "version": "3.8.10"
  }
 },
 "nbformat": 4,
 "nbformat_minor": 4
}
